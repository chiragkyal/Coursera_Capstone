{
  "nbformat": 4,
  "nbformat_minor": 0,
  "metadata": {
    "colab": {
      "name": "The Battle of Neighbourhoods1.ipynb",
      "provenance": []
    },
    "kernelspec": {
      "name": "python3",
      "display_name": "Python 3"
    }
  },
  "cells": [
    {
      "cell_type": "markdown",
      "metadata": {
        "id": "0bK9c2YprmTs",
        "colab_type": "text"
      },
      "source": [
        "## Capstone Project - The Battle of Neighbourhoods"
      ]
    },
    {
      "cell_type": "markdown",
      "metadata": {
        "id": "giztNeEHrgOR",
        "colab_type": "text"
      },
      "source": [
        "\n",
        "#Data Section:\n",
        "New York City's demographics show that it is a large and ethnically diverse metropolis. With its diverse culture, comes diverse food items. There are many restaurants in New York City, each belonging to different categories like Chinese, Indian, and French etc.\n",
        "For this project we need the following data:\n",
        "1. New York City data that contains list Boroughs, Neighbourhoods along with their latitude and longitude.\n",
        "      \n",
        "      1.a. Data source : https://cocl.us/new_york_dataset\n",
        "      \n",
        "      1.b.Description: This data set contains the required information. And we will use this data set to explore various neighbourhoods of New York City\n",
        "2. Indian restaurants in each neighbourhood of New York City.\n",
        "\n",
        "    2.a. Data source : Foursquare API\n",
        "    \n",
        "    2.b. Description: By using this API we will get all the venues in each neighbourhood. We can filter these venues to get only Indian restaurants.\n",
        "3. GeoSpace data\n",
        "\n",
        "  3.a. Data source : https://data.cityofnewyork.us/City-Government/Borough-Boundaries/tqmj-j8zm\n",
        "  \n",
        "  3.b. Description: By using this geo space data we will get the New York Borough boundaries that will help us visualize choropleth map."
      ]
    },
    {
      "cell_type": "markdown",
      "metadata": {
        "id": "fe7AEe6Zsw5L",
        "colab_type": "text"
      },
      "source": [
        "##Introduction to Business Problem\n",
        "\n",
        "#Introduction\n",
        "New York City's demographics show that it is a large and ethnically diverse metropolis. It is the largest city in the United States with a long history of international immigration. New York City was home to nearly 8.5 million people in 2014, accounting for over 40% of the population of New York State and a slightly lower percentage of the New York metropolitan area, home to approximately 23.6 million. Over the last decade the city has been growing faster than the region. The New York region continues to be by far the leading metropolitan gateway for legal immigrants admitted into the United States.\n",
        "New York City has also been a major point of entry for immigrants; the term \"melting pot\" was coined to describe densely populated immigrant neighbourhoods on the Lower East Side. As many as 800 languages are spoken in New York, making it the most linguistically diverse city in the world. English remains the most widely spoken language, although there are areas in the outer boroughs in which up to 25% of people speak English as an alternate language, and/or have limited or no English language fluency. English is least spoken in neighbourhoods such as Flushing, Sunset Park, and Corona.\n",
        "With its diverse culture, comes diverse food items. There are many restaurants in New York City, each belonging to different categories like Chinese, Indian, and French etc.\n",
        "\n",
        "\n",
        "#Problem\n",
        "\n",
        "To find the answers to the following questions:\n",
        "Q1) List and visualize all major parts of New York City that has great Indian restaurants. \n",
        "\n",
        "Q2) what is best location in New York City for Indian Cuisine? \n",
        "\n",
        "Q3) which areas have potential Indian Restaurant Market? \n",
        "\n",
        "Q4) which all areas lack Indian Restaurants? \n",
        "\n",
        "Q5) which is the best place to stay if you prefer Indian Cuisine?"
      ]
    },
    {
      "cell_type": "code",
      "metadata": {
        "id": "1lh9vvOvtKqT",
        "colab_type": "code",
        "colab": {}
      },
      "source": [
        ""
      ],
      "execution_count": 0,
      "outputs": []
    }
  ]
}